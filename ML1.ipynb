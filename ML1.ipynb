{
 "cells": [
  {
   "cell_type": "code",
   "execution_count": 1,
   "id": "602436ce",
   "metadata": {},
   "outputs": [
    {
     "name": "stdout",
     "output_type": "stream",
     "text": [
      "Sorted list:  [19, 19, 19, 20, 22, 24, 24, 24, 25, 25, 26, 26]\n",
      "Min age: 19\n",
      "Max age : 26\n",
      "Median : 24.0\n",
      "Average : 22\n",
      "Range: 7\n"
     ]
    }
   ],
   "source": [
    "ages = [19,22,19,24,20,25,26,24,25,24]\n",
    "ages.sort()\n",
    "minAge = min(ages)\n",
    "maxAge = max(ages)\n",
    "ages.append(minAge)\n",
    "ages.append(maxAge)\n",
    "ages.sort()\n",
    "length = len(ages)\n",
    "medianAge = ages[ (length+1)//2] if length%2==1 else (ages[length//2]+ages[ (length//2)+1])/2\n",
    "sumofAges = sum(ages)\n",
    "averageofAges = sumofAges//length\n",
    "rangeofAges = maxAge-minAge\n",
    "print(\"Sorted list: \" , ages)\n",
    "print(\"Min age:\" ,minAge)\n",
    "print(\"Max age :\",maxAge)\n",
    "print(\"Median :\",medianAge)\n",
    "print(\"Average :\",averageofAges)\n",
    "print(\"Range:\",rangeofAges)"
   ]
  },
  {
   "cell_type": "code",
   "execution_count": 2,
   "id": "763e0464",
   "metadata": {},
   "outputs": [
    {
     "name": "stdout",
     "output_type": "stream",
     "text": [
      " Dog dictionary is :  {'Name': 'Doodle', 'Color': 'Black', 'Breed': 'poodle', 'legs': 4, 'Age': 14}\n",
      "\n",
      "Student dictionary is :  {'first_name': 'Triveni', 'last_name': 'Bala', 'Gender': 'Female', 'Age': 23, 'Martal status': 'single', 'Skills': ['python', 'Java', 'AWS'], 'Country': 'India', 'City': 'khammam', 'Address': 'vdos colony'}\n",
      "length of student dictionary is :  9\n",
      "student skills are : ['python', 'Java', 'AWS']\n",
      "type of student skills is :  <class 'list'>\n",
      "modified student skills :  ['python', 'Java', 'AWS', 'Skill A', 'Skill B']\n",
      "dog dictionary keys :  ['Name', 'Color', 'Breed', 'legs', 'Age']\n",
      "student dictionary keys :  ['first_name', 'last_name', 'Gender', 'Age', 'Martal status', 'Skills', 'Country', 'City', 'Address']\n",
      "dog dictionary values :  ['Doodle', 'Black', 'poodle', 4, 14]\n",
      "student dictionary values :  ['Triveni', 'Bala', 'Female', 23, 'single', ['python', 'Java', 'AWS', 'Skill A', 'Skill B'], 'India', 'khammam', 'vdos colony']\n"
     ]
    }
   ],
   "source": [
    "#creating dog dictionary\n",
    "dog=dict()\n",
    "dog[\"Name\"]=\"Doodle\"\n",
    "dog[\"Color\"]=\"Black\"\n",
    "dog[\"Breed\"]=\"poodle\"\n",
    "dog[\"legs\"]=4\n",
    "dog[\"Age\"]=14\n",
    "print(\" Dog dictionary is : \",dog)\n",
    "print()\n",
    "\n",
    "#creating student dictionary\n",
    "student=dict()\n",
    "student[\"first_name\"]=\"Triveni\"\n",
    "student[\"last_name\"]=\"Bala\"\n",
    "student[\"Gender\"]=\"Female\"\n",
    "student[\"Age\"]=23\n",
    "student[\"Martal status\"]=\"single\"\n",
    "student[\"Skills\"]=[\"python\",\"Java\",\"AWS\"]\n",
    "student[\"Country\"]=\"India\"\n",
    "student[\"City\"]=\"khammam\"\n",
    "student[\"Address\"]=\"vdos colony\"\n",
    "print(\"Student dictionary is : \",student)\n",
    "\n",
    "\n",
    "#length of student dictionary\n",
    "print(\"length of student dictionary is : \",str(len(student)));\n",
    "\n",
    "#value of student skills and datatype\n",
    "print(\"student skills are : \",end='')\n",
    "print(student[\"Skills\"])\n",
    "print(\"type of student skills is : \",type(student[\"Skills\"]))\n",
    "\n",
    "#modifying student skills\n",
    "student[\"Skills\"].append(\"Skill A\")\n",
    "student[\"Skills\"].append(\"Skill B\")\n",
    "print(\"modified student skills : \",student[\"Skills\"])\n",
    "\n",
    "#getting dictionary keys as list\n",
    "dog_keys=list(dog.keys())\n",
    "print(\"dog dictionary keys : \",dog_keys)\n",
    "student_keys=list(student.keys())\n",
    "print(\"student dictionary keys : \",student_keys)\n",
    "dog_values=list(dog.values())\n",
    "print(\"dog dictionary values : \",dog_values)\n",
    "student_values=list(student.values())\n",
    "print(\"student dictionary values : \",student_values)\n"
   ]
  },
  {
   "cell_type": "code",
   "execution_count": 3,
   "id": "53b57cc9",
   "metadata": {},
   "outputs": [
    {
     "name": "stdout",
     "output_type": "stream",
     "text": [
      "brothers are :  ('sai', '', 'Sampath', 'Vishnu', 'RamCharan')\n",
      "sisters are :  ('Trishanka', 'Rashmika')\n",
      "siblings are :  ('sai', '', 'Sampath', 'Vishnu', 'RamCharan', 'Trishanka', 'Rashmika')\n",
      "number of siblings are :  7\n",
      "family members are :  ('father', 'mother', 'sai', '', 'Sampath', 'Vishnu', 'RamCharan', 'Trishanka', 'Rashmika')\n"
     ]
    }
   ],
   "source": [
    "#creating tuples brothers and sisters\n",
    "sisters=(\"Trishanka\",\"Rashmika\")\n",
    "brothers=(\"sai\",\"\",\"Sampath\",\"Vishnu\" , \"RamCharan\")\n",
    "print(\"brothers are : \",brothers)\n",
    "print(\"sisters are : \",sisters)\n",
    "\n",
    "#joining brothers and sisters tuples to siblings\n",
    "siblings=brothers+sisters\n",
    "print(\"siblings are : \",siblings)\n",
    "print(\"number of siblings are : \",len(siblings))\n",
    "\n",
    "#modifying siblings tuple by adding father name and mother name\n",
    "family_members=(\"father\",\"mother\")+siblings\n",
    "print(\"family members are : \",family_members)"
   ]
  },
  {
   "cell_type": "code",
   "execution_count": 4,
   "id": "59d9595a",
   "metadata": {},
   "outputs": [
    {
     "name": "stdout",
     "output_type": "stream",
     "text": [
      "length of it_companies :  7\n",
      "it_companies after appending twitter : {'Amazon', 'Twitter', 'Microsoft', 'Oracle', 'Facebook', 'IBM', 'Google', 'Apple'}\n",
      "it_companies after appending multiple companies : {'Twitter', 'IBM', 'Wipro', 'Google', 'Microsoft', 'NCR', 'TCS', 'Amazon', 'Oracle', 'Facebook', 'Apple'}\n",
      "it_companies after removing one company :  {'IBM', 'Wipro', 'Google', 'Microsoft', 'NCR', 'TCS', 'Amazon', 'Oracle', 'Facebook', 'Apple'}\n",
      "joining A and B gives : {19, 20, 22, 24, 25, 26, 27, 28}\n",
      "Intersection of A and B is: {19, 20, 22, 24, 25, 26}\n",
      "A is subset of B\n",
      "A and B are not disjoint sets\n",
      "A join B is : {19, 20, 22, 24, 25, 26, 27, 28}\n",
      "B join A is : {19, 20, 22, 24, 25, 26, 27, 28}\n",
      "symmetric difference between A and B is : {27, 28}\n",
      "length of ages list is :  8\n",
      "length of ages set is : 5\n",
      "length of ages list is greater than the ages set\n"
     ]
    }
   ],
   "source": [
    "# given list of IT companies\n",
    "it_companies = {\"Facebook\", \"Google\", \"Microsoft\", \"Apple\", \"IBM\", \"Oracle\", \"Amazon\"}\n",
    "A = {19, 22, 24, 20, 25, 26}\n",
    "B = {19, 22, 20, 25, 26, 24, 28, 27}\n",
    "age = [22, 19, 24, 25, 26, 24, 25, 24]\n",
    "print(\"length of it_companies : \", len(it_companies))\n",
    "\n",
    "# adding twitter to it_companies\n",
    "it_companies.add(\"Twitter\")\n",
    "print(\"it_companies after appending twitter :\", it_companies)\n",
    "\n",
    "# inserting multiple it companies\n",
    "companies = [\"NCR\", \"Wipro\", \"TCS\"]\n",
    "it_companies.update(companies)\n",
    "print(\"it_companies after appending multiple companies :\", it_companies)\n",
    "\n",
    "# removing one company\n",
    "it_companies.remove(\"Twitter\")\n",
    "print(\"it_companies after removing one company : \", it_companies)\n",
    "\n",
    "# Difference between remove and discard method\n",
    "# The remove() method will raise an error if the specified item does not exist, and the discard() method will not raise error.\n",
    "\n",
    "# joining A and B\n",
    "C = A.union(B)\n",
    "print(\"joining A and B gives :\", C)\n",
    "\n",
    "# finding A intersection B\n",
    "I = A.intersection(B)\n",
    "print(\"Intersection of A and B is:\", I)\n",
    "\n",
    "# checking is A subset of B\n",
    "check = A.issubset(B)\n",
    "if check:\n",
    "    print(\"A is subset of B\")\n",
    "else:\n",
    "    print(\"A is not a subset of B\")\n",
    "\n",
    "# checking are A and B are disjoint sets\n",
    "check1 = A.isdisjoint(B)\n",
    "if check1:\n",
    "    print(\"A and B are disjoint sets\")\n",
    "else:\n",
    "    print(\"A and B are not disjoint sets\")\n",
    "\n",
    "# joining A with B and B with A\n",
    "A_join_B = A.union(B)\n",
    "B_join_A = B.union(A)\n",
    "print(\"A join B is :\", A_join_B)\n",
    "print(\"B join A is :\", B_join_A)\n",
    "\n",
    "# symmetric difference between A and B\n",
    "D = A.symmetric_difference(B)\n",
    "print(\"symmetric difference between A and B is :\", D)\n",
    "\n",
    "# deleting all the sets\n",
    "it_companies.clear()\n",
    "A.clear()\n",
    "B.clear()\n",
    "\n",
    "# converting ages list to set\n",
    "age_set = set(age)\n",
    "print(\"length of ages list is : \", len(age))\n",
    "print(\"length of ages set is :\", len(age_set))\n",
    "print(\"length of ages list is greater than the ages set\")\n"
   ]
  },
  {
   "cell_type": "code",
   "execution_count": 5,
   "id": "fe65c40d",
   "metadata": {},
   "outputs": [
    {
     "name": "stdout",
     "output_type": "stream",
     "text": [
      "area of circle : 2826.0\n",
      "circumference of circle : 190.2\n",
      "30\n",
      "Area of circle with user input : 2826.0\n"
     ]
    }
   ],
   "source": [
    "r=30\n",
    "_area_of_circle=3.14*(r**2)\n",
    "print(\"area of circle :\",_area_of_circle)\n",
    "_circum_of_circle=2*3.17*r\n",
    "print(\"circumference of circle :\",_circum_of_circle)\n",
    "n=int(input())\n",
    "area=3.14*(n**2)\n",
    "print(\"Area of circle with user input :\",area)"
   ]
  },
  {
   "cell_type": "code",
   "execution_count": 6,
   "id": "d044d19f",
   "metadata": {},
   "outputs": [
    {
     "name": "stdout",
     "output_type": "stream",
     "text": [
      "10\n"
     ]
    }
   ],
   "source": [
    "# given string to the variable a\n",
    "a=\"I am a teacher and I love to inspire and teach people\"\n",
    "# split the given string\n",
    "b=a.split()\n",
    "# using set to remove duplicates\n",
    "set1=set(b)\n",
    "# using len to count number of words\n",
    "count=len(set1)\n",
    "# printing the value\n",
    "print(count)"
   ]
  },
  {
   "cell_type": "code",
   "execution_count": 8,
   "id": "bfaa31fe",
   "metadata": {},
   "outputs": [
    {
     "name": "stdout",
     "output_type": "stream",
     "text": [
      "Name\tAge\tCountry\tCity\n",
      "Asabeneh\t250\tFinland\tHelsinki\n"
     ]
    }
   ],
   "source": [
    "#tab escape\n",
    "# declaring a string to the txt variable\n",
    "txt = \"Name\\tAge\\tCountry\\tCity\\nAsabeneh\\t250\\tFinland\\tHelsinki\"\n",
    "#print the requried output\n",
    "print(txt)"
   ]
  },
  {
   "cell_type": "code",
   "execution_count": 9,
   "id": "a8ce2259",
   "metadata": {},
   "outputs": [
    {
     "name": "stdout",
     "output_type": "stream",
     "text": [
      "The area of circle with radius 10 is 314.0 meters square\n"
     ]
    }
   ],
   "source": [
    "#Assigned variable radius\n",
    "radius=10\n",
    "#Assigned area of circle formula\n",
    "area=3.14 * radius ** 2\n",
    "#print the output using string format\n",
    "print(\"The area of circle with radius {} is {} meters square\".format(radius,area))\n"
   ]
  },
  {
   "cell_type": "code",
   "execution_count": 10,
   "id": "d423593f",
   "metadata": {},
   "outputs": [
    {
     "name": "stdout",
     "output_type": "stream",
     "text": [
      "Enter number of student's weight to be calculated2\n",
      "weight 1 \n",
      "3\n",
      "weight 2 \n",
      "45\n",
      "[3, 45]\n",
      "[1.36, 20.41]\n"
     ]
    }
   ],
   "source": [
    "n=int(input(\"Enter number of student's weight to be calculated\"))\n",
    "weights_in_lbs=[]\n",
    "weights_in_kg=[]\n",
    "#appending the elements into the list\n",
    "for i in range(n):\n",
    "    weights_in_lbs.append(int(input(\"weight {} \\n\".format(i+1))))\n",
    "print(weights_in_lbs)\n",
    "#converting lbs to kilogram with exactly 2 decimal places\n",
    "for i in range(len(weights_in_lbs)):\n",
    "    lbs=0.45359237 #1lbs= 0.45359237kg\n",
    "    temp=round(weights_in_lbs[i]*lbs,2)\n",
    "    weights_in_kg.append(temp)\n",
    "    temp=0\n",
    "print(weights_in_kg)"
   ]
  },
  {
   "cell_type": "code",
   "execution_count": null,
   "id": "0a15714b",
   "metadata": {},
   "outputs": [],
   "source": []
  }
 ],
 "metadata": {
  "kernelspec": {
   "display_name": "Python 3 (ipykernel)",
   "language": "python",
   "name": "python3"
  },
  "language_info": {
   "codemirror_mode": {
    "name": "ipython",
    "version": 3
   },
   "file_extension": ".py",
   "mimetype": "text/x-python",
   "name": "python",
   "nbconvert_exporter": "python",
   "pygments_lexer": "ipython3",
   "version": "3.9.13"
  }
 },
 "nbformat": 4,
 "nbformat_minor": 5
}
