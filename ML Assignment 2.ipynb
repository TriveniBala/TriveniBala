{
 "cells": [
  {
   "cell_type": "code",
   "execution_count": 48,
   "id": "58a6388c",
   "metadata": {},
   "outputs": [
    {
     "name": "stdout",
     "output_type": "stream",
     "text": [
      "Enter the number of rows: 5\n",
      "* \n",
      "* * \n",
      "* * * \n",
      "* * * * \n",
      "* * * * * \n",
      "* * * * \n",
      "* * * \n",
      "* * \n",
      "* \n",
      "\n"
     ]
    }
   ],
   "source": [
    "def pattern(n):\n",
    "   \n",
    "   for i in range(n):      ## using the for loop  for top 5 rows \n",
    "      for j in range(i+1):\n",
    "        \n",
    "         print(\"* \",end=\"\")\n",
    "      print(\"\\r\")\n",
    "      \n",
    "  \n",
    "   for i in range(n):      ## using the for loop for the bottom 5 rows\n",
    "      for j in range(n-i-1):\n",
    "         \n",
    "         print(\"* \",end=\"\")\n",
    "      print(\"\\r\")\n",
    " \n",
    "n = int(input('Enter the number of rows: '))\n",
    "\n",
    "\n",
    "pattern(n)     \n",
    " "
   ]
  },
  {
   "cell_type": "code",
   "execution_count": 26,
   "id": "8f732b64",
   "metadata": {},
   "outputs": [
    {
     "name": "stdout",
     "output_type": "stream",
     "text": [
      "20 40 60 80 100 "
     ]
    }
   ],
   "source": [
    "## we are using the looping to output the elements from a provided list present at odd indexes\n",
    "list = [10, 20, 30, 40, 50, 60, 70, 80, 90, 100]\n",
    "list = [10, 20, 30, 40, 50, 60, 70, 80, 90, 100]\n",
    "for i in list[1::2]:\n",
    "    print(i, end=\" \")"
   ]
  },
  {
   "cell_type": "code",
   "execution_count": 54,
   "id": "5a534dd2",
   "metadata": {},
   "outputs": [
    {
     "name": "stdout",
     "output_type": "stream",
     "text": [
      "[<class 'int'>, <class 'str'>, <class 'float'>]\n",
      "[23, 'Python', 23.98]\n"
     ]
    }
   ],
   "source": [
    "x = [23,'Python', 23.98]\n",
    "n = []\n",
    "for i in range(len(x)):\n",
    "     n.append(type(x[i]))     ### here we are using type function to get types of elements and printing them\n",
    "print(n)\n",
    "print(x)\n"
   ]
  },
  {
   "cell_type": "code",
   "execution_count": 34,
   "id": "59eca14a",
   "metadata": {},
   "outputs": [
    {
     "name": "stdout",
     "output_type": "stream",
     "text": [
      "[1, 2, 3, 4, 5]\n"
     ]
    }
   ],
   "source": [
    "def unique_list(l):\n",
    "  x = []\n",
    "#using for loop\n",
    "  for a in l:\n",
    "    if a not in x:\n",
    "      x.append(a)\n",
    "  return x\n",
    "print(unique_list([1,2,3,3,3,3,4,5]))"
   ]
  },
  {
   "cell_type": "code",
   "execution_count": 42,
   "id": "08a66adc",
   "metadata": {},
   "outputs": [
    {
     "name": "stdout",
     "output_type": "stream",
     "text": [
      "Lowercase characters: 12\n",
      "Uppercase characters: 3\n"
     ]
    }
   ],
   "source": [
    "Input_String= 'The quick Brow Fox'\n",
    "lower = [i for i in Input_String if i.islower()]\n",
    "upper = [j for j in Input_String if j.isupper()]\n",
    "\n",
    "print('Lowercase characters:', len(lower))\n",
    "print('Uppercase characters:', len(upper))"
   ]
  },
  {
   "cell_type": "code",
   "execution_count": null,
   "id": "a752c02c",
   "metadata": {},
   "outputs": [],
   "source": []
  },
  {
   "cell_type": "code",
   "execution_count": null,
   "id": "2103a9e8",
   "metadata": {},
   "outputs": [],
   "source": []
  },
  {
   "cell_type": "code",
   "execution_count": null,
   "id": "39f84651",
   "metadata": {},
   "outputs": [],
   "source": []
  }
 ],
 "metadata": {
  "kernelspec": {
   "display_name": "Python 3 (ipykernel)",
   "language": "python",
   "name": "python3"
  },
  "language_info": {
   "codemirror_mode": {
    "name": "ipython",
    "version": 3
   },
   "file_extension": ".py",
   "mimetype": "text/x-python",
   "name": "python",
   "nbconvert_exporter": "python",
   "pygments_lexer": "ipython3",
   "version": "3.9.13"
  }
 },
 "nbformat": 4,
 "nbformat_minor": 5
}
